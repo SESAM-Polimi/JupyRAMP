{
 "cells": [
  {
   "cell_type": "markdown",
   "id": "3e11825b-8672-4832-933d-dbf1d999e393",
   "metadata": {},
   "source": [
    "# Simulating a Rural Community Load Profile with RAMP "
   ]
  },
  {
   "cell_type": "markdown",
   "id": "d5f78548-d259-49df-aa7b-5f46727818bd",
   "metadata": {},
   "source": [
    "RAMP is an open-source software designed for the generation of **high-resolution multi-energy profiles** where only rudimentary information on user behaviour is available, allowing for the **characterization of users**, **appliances** and the definition of **operating windows**, to yield a finely detailed energy usage profile on a **minute basis**.\n",
    "\n",
    "<div style=\"text-align: center;\">\n",
    "  <img src=\"Images/RAMP_intro.png\" alt=\"Examples of load curve demands estimated using RAMP software\" style=\"width:80%;\"/>\n",
    "</div>\n",
    "\n",
    "In the following sections of this notebook, you will learn how to use the RAMP tool for simulating electrical load profiles by uploading data in an Excel file format. The process is outlined step by step below to facilitate easy navigation and execution.\n",
    "\n",
    "- **Step 1 - Upload Excel File**: Select and upload the Excel file containing your input data, which should include detailed information on appliance usage,  and other parameters necessary for the simulation. More info in the next paragraph. \n",
    "- **Step 2 - Set Simulation Parameters**: Determine the simulation period by setting the number of different days (profiles) to be generated. Press the `Generate Profiles` button to start the simulation process.\n",
    "- **Step 3 - Review Results**: View the simulation results displayed in this notebook once the computation is complete. The output includes daily and cumulative load profiles, illustrating the energy consumption patterns across different user categories specified in your Excel file.\n",
    "- **Step 4 - Exporting the Results**: Export the simulation results, including daily load profiles and average daily load, into an Excel file named *Load demand results.xlsx*, located in the *Jupyter Notebooks/Results* folder.\n"
   ]
  },
  {
   "cell_type": "markdown",
   "id": "f082a7d2-a8ca-4969-bda6-e1f724752391",
   "metadata": {},
   "source": [
    "## Excel File Structure"
   ]
  },
  {
   "cell_type": "markdown",
   "id": "3617ef60-e2dd-464c-aa70-2a1331a08ed5",
   "metadata": {},
   "source": [
    "The Excel file serves as the input for the RAMP simulation, providing detailed specifications for each user group within the community and their corresponding appliance usage. The structure of the input Excel file is shown in the figure below:\n",
    "\n",
    "<div style=\"text-align: center;\">\n",
    "  <img src=\"Images/Excel_structure.png\" alt=\"Examples of load curve demands estimated using RAMP software\" style=\"width:80%;\"/>\n",
    "</div>\n",
    "\n",
    "The Excel file designed for input into the RAMP simulation tool systematically captures the details of energy usage for different demographic user groups and their respective appliances. Below is the structural organization of the Excel file:\n",
    "\n",
    "### Rows: Representation of Appliance Usage by User Groups\n",
    "\n",
    "- Each row corresponds to an appliance usage profile linked to a specific user category.\n",
    "- Rows are categorized by user_name, representing different groups such as income levels or specific sectors (residential, commercial, educational, etc.).\n",
    "\n",
    "### Columns: Parameters Detailing User and Appliance Information\n",
    "\n",
    "- **User**: Associates the appliance with a specific user class in the RAMP model.\n",
    "- **Number**: Indicates how many units of the appliance are present, defaulting to 1 if not specified.\n",
    "- **Power**: Represents the energy consumption rate of the appliance, either as a constant value or a variable series across days (e.g., average in Watts). Default is 0.\n",
    "- **Number of Windows**: Specifies the count of distinct time windows within which the appliance operates, default is 1.\n",
    "- **Functional Time**: Total operational time of the appliance per day, measured in minutes from 0 to 1440, default is 0.\n",
    "- **Time Fraction Random Variability**: Percentage of the total operational time that exhibits random variability, default is 0%.\n",
    "- **Functional Cycle**: Minimum continuous operating time once the appliance is turned on, measured in minutes, default is 1 minute.\n",
    "- **Fixed**: Indicates if all units of the appliance always switch on simultaneously ('yes') or independently ('no'), default is \"no\".\n",
    "- **Fixed Cycle**: Defines the number of operational cycles, where 0 indicates continuous operation. Non-zero values require specifying cycle windows (up to 3), default is 0.\n",
    "- **Occasional Use**: Percentage indicating how frequently the appliance is used, with 1.0 meaning daily use and lower values reflecting less frequent use, default is 1.\n",
    "- **Flat**: Whether the appliance is subject to any random variability ('no') or not ('yes'), applicable to devices like public lighting, default is \"no\".\n",
    "- **Thermal Power Variability**: Percentage variability in power usage due to factors like temperature changes, default is 0%.\n",
    "- **Preference Index**: A numerical index used to associate the appliance with user's daily preference patterns, must be equal to or less than the max value specified in user preferences, default is 0.\n",
    "- **Weekday/Weekend Type**: Specifies appliance use as weekdays (0), weekends (1), or both (2), default is 2.\n",
    "\n",
    "### Tips for Filling Out the Excel File\n",
    "\n",
    "- Reflect the structure of your specific community by accurately representing each user group along with their appliances in the rows.\n",
    "- Complete the columns with the necessary parameters to describe the operational profile and characteristics of these appliances.\n",
    "- Ensure data uniformity in terms of units and formatting to facilitate the correct processing by the simulation totions."
   ]
  },
  {
   "cell_type": "markdown",
   "id": "9598f94f-f287-4bed-8403-1c609c63601b",
   "metadata": {},
   "source": [
    "<div style=\"background-color: #FFCCCC; border-left: 6px solid #FF0000; padding: 10px; margin-bottom: 20px;\">\n",
    "    <strong>Warning:</strong> The code blocks below are delicate as they define critical functions for pre-processing and initializing the use case. Please do <strong>NOT</strong> modify this code unless you are familiar with its structure and dependencies. Run it and interact with the subsequent widgets to customize your input parameters and trigger simulations.\n",
    "</div>"
   ]
  },
  {
   "cell_type": "markdown",
   "id": "b25e8e5d-c9f1-451d-8f99-8bb7eae61d21",
   "metadata": {},
   "source": [
    "## Initialization\n",
    "\n",
    "In the code cell below, we initialize an interactive widget to upload the Excel file required for the RAMP simulation. Please select your .xlsx file and upload it to proceed with the simulation."
   ]
  },
  {
   "cell_type": "code",
   "execution_count": 5,
   "id": "1a151ee0-042c-4700-b618-93d462b93fa7",
   "metadata": {},
   "outputs": [
    {
     "name": "stdout",
     "output_type": "stream",
     "text": [
      "Please upload the Excel Input file (.xlsx) and then click 'Verify Upload' to check the file:\n",
      "\n"
     ]
    },
    {
     "data": {
      "application/vnd.jupyter.widget-view+json": {
       "model_id": "505fb5f8cb15459f9dc07a3e24879553",
       "version_major": 2,
       "version_minor": 0
      },
      "text/plain": [
       "HBox(children=(FileUpload(value=(), accept='.xlsx', description='Upload your file'), Button(description='Verif…"
      ]
     },
     "metadata": {},
     "output_type": "display_data"
    },
    {
     "data": {
      "application/vnd.jupyter.widget-view+json": {
       "model_id": "b295afa9670c4074ab5d83da97837919",
       "version_major": 2,
       "version_minor": 0
      },
      "text/plain": [
       "Output()"
      ]
     },
     "metadata": {},
     "output_type": "display_data"
    }
   ],
   "source": [
    "import ipywidgets as widgets\n",
    "from IPython.display import display, clear_output\n",
    "\n",
    "# Create the uploader widget\n",
    "uploader = widgets.FileUpload(\n",
    "    accept='.xlsx',  # Accept .xlsx files only\n",
    "    multiple=False,  # Only single file uploads allowed\n",
    "    description='Upload your file'\n",
    ")\n",
    "\n",
    "# Create a button for the user to click after uploading to verify the file upload\n",
    "verify_upload_button = widgets.Button(description=\"Verify Upload\")\n",
    "\n",
    "# Output widget to display messages\n",
    "output = widgets.Output()\n",
    "\n",
    "# Define a function to be called when the verify upload button is clicked\n",
    "def verify_upload(b):\n",
    "    with output:\n",
    "        clear_output()  # Clear previous output\n",
    "        if uploader.value:\n",
    "            # Access uploader.value, which is a tuple of dictionaries\n",
    "            uploaded_files = uploader.value\n",
    "            # Iterate over each file's dictionary\n",
    "            for file_info in uploaded_files:\n",
    "                file_name = file_info['name']\n",
    "                last_modified = file_info['last_modified']\n",
    "                print(f\"\\nFile successfully uploaded: {file_name}, last modified: {last_modified}\")\n",
    "        else:\n",
    "            print(\"No file has been uploaded. Please try again.\")\n",
    "\n",
    "# Attach the function to the button's on_click event\n",
    "verify_upload_button.on_click(verify_upload)\n",
    "\n",
    "# Use HBox to place the upload and verify buttons side by side\n",
    "buttons = widgets.HBox([uploader, verify_upload_button])\n",
    "\n",
    "# Display the buttons and the output area\n",
    "print(\"Please upload the Excel Input file (.xlsx) and then click 'Verify Upload' to check the file:\\n\")\n",
    "display(buttons, output)"
   ]
  },
  {
   "cell_type": "markdown",
   "id": "d9951989-14c8-4337-90aa-57a1b8abcca8",
   "metadata": {},
   "source": [
    "## Profile Simulation\n",
    "\n",
    "Once you have uploaded the Excel file, run the cell below to set up an interactive simulation environment. Start by selecting the number of days for the simulation period using the provided input widget. After setting the number of days, click the \"Generate Profiles\" button to initiate the simulation process. This simulation utilizes parallel processing to efficiently generate daily load profiles, significantly enhancing performance for extensive datasets.\n",
    "\n",
    "During the simulation, a progress bar will appear, giving you a visual indication of the ongoing process. Depending on the number of days you have chosen, the simulation can take several minutes to complete. Please refrain from proceeding to subsequent cells until you see the message \"Load Profiles successfully generated.\" appear in the output area, indicating that the simulation has been completed successfully. This ensures that all profiles are fully prepared before moving forward with any further analysis or steps."
   ]
  },
  {
   "cell_type": "code",
   "execution_count": 6,
   "id": "1edc3942-8c2e-4557-b544-ca2584d6b8f0",
   "metadata": {},
   "outputs": [
    {
     "name": "stdout",
     "output_type": "stream",
     "text": [
      "\n",
      "Select the number of days for the simulation period:\n"
     ]
    },
    {
     "data": {
      "application/vnd.jupyter.widget-view+json": {
       "model_id": "03af941c98d84a59a1a77c516ad46df4",
       "version_major": 2,
       "version_minor": 0
      },
      "text/plain": [
       "IntText(value=365, description='Number of days')"
      ]
     },
     "metadata": {},
     "output_type": "display_data"
    },
    {
     "name": "stdout",
     "output_type": "stream",
     "text": [
      "\n",
      "Click 'Generate Profiles' to start the simulation and wait for the confirmation message.\n"
     ]
    },
    {
     "data": {
      "application/vnd.jupyter.widget-view+json": {
       "model_id": "cc9326d3d16d49b6838e476eebdc8254",
       "version_major": 2,
       "version_minor": 0
      },
      "text/plain": [
       "Button(description='Generate Profiles', style=ButtonStyle())"
      ]
     },
     "metadata": {},
     "output_type": "display_data"
    },
    {
     "data": {
      "application/vnd.jupyter.widget-view+json": {
       "model_id": "e2ae3ba7e7534bb9bbf3f8f2b704c00d",
       "version_major": 2,
       "version_minor": 0
      },
      "text/plain": [
       "Output()"
      ]
     },
     "metadata": {},
     "output_type": "display_data"
    }
   ],
   "source": [
    "from io import BytesIO\n",
    "from ramp import UseCase\n",
    "import numpy as np\n",
    "import pandas as pd\n",
    "\n",
    "class User:\n",
    "    def __init__(self, name, demand_data):\n",
    "        self.name = name\n",
    "        self.demand_data = demand_data\n",
    "\n",
    "# Global variables\n",
    "users = []\n",
    "aggregated_demand = None\n",
    "\n",
    "# Widgets\n",
    "num_days_input = widgets.IntText(description='Number of days', value=365)\n",
    "run_button = widgets.Button(description=\"Generate Profiles\")\n",
    "simulation_output = widgets.Output()\n",
    "\n",
    "def load_and_simulate_ramp_data(file_content, num_days, force_reinitialize):\n",
    "    global users, aggregated_demand\n",
    "    users = []\n",
    "    try:\n",
    "        df = pd.read_excel(file_content, sheet_name=0)\n",
    "        categories = df.iloc[:, 0].unique()\n",
    "        \n",
    "        for category in categories:\n",
    "            print(f'Generating load profiles for {category}, please wait...')\n",
    "            category_data = df[df.iloc[:, 0] == category]\n",
    "            category_file = BytesIO()\n",
    "            category_data.to_excel(category_file, index=False)\n",
    "            category_file.seek(0)\n",
    "            \n",
    "            usecase = UseCase(name=category)\n",
    "            usecase.initialize(num_days=num_days, force=force_reinitialize)\n",
    "            usecase.load(category_file)\n",
    "            user_load_profile = usecase.generate_daily_load_profiles()\n",
    "            \n",
    "            if user_load_profile is not None:\n",
    "                user = User(name=category, demand_data=pd.DataFrame(user_load_profile))\n",
    "                users.append(user)\n",
    "                print(f\"Load profiles for {category} generated successfully using RAMP\")\n",
    "            else:\n",
    "                print(f\"Error processing data for {category}.\")\n",
    "        \n",
    "        # Create aggregated demand\n",
    "        aggregated_demand = np.sum([user.demand_data.to_numpy() for user in users], axis=0)\n",
    "        \n",
    "    except Exception as e:\n",
    "        print(f\"Error processing the uploaded file: {e}\")\n",
    "    return users, aggregated_demand\n",
    "\n",
    "def run_usecase(b):\n",
    "    with simulation_output:\n",
    "        clear_output()\n",
    "        num_days = num_days_input.value\n",
    "        force_reinit = True\n",
    "        try:\n",
    "            if not uploader.value:\n",
    "                print(\"No file has been uploaded. Please upload a file in the previous cell.\")\n",
    "                return\n",
    "            \n",
    "            first_uploaded_file = next(iter(uploader.value))\n",
    "            file_content = BytesIO(first_uploaded_file['content'])\n",
    "            \n",
    "            print(\"Generating load profiles, please wait...\\n\")\n",
    "            users, aggregated_demand = load_and_simulate_ramp_data(file_content, num_days, force_reinitialize=force_reinit)\n",
    "            print(\"\\nLoad Profiles successfully generated.\")\n",
    "            print(f\"\\nGenerated profiles for {len(users)} user categories.\")\n",
    "            print(\"You can now proceed to the visualization cell.\")\n",
    "        except Exception as e:\n",
    "            print(f\"An error occurred: {str(e)}\")\n",
    "\n",
    "# Set up event handler\n",
    "run_button.on_click(run_usecase)\n",
    "\n",
    "# Display widgets and output area\n",
    "print(\"\\nSelect the number of days for the simulation period:\")\n",
    "display(num_days_input)\n",
    "print(\"\\nClick 'Generate Profiles' to start the simulation and wait for the confirmation message.\")\n",
    "display(run_button)\n",
    "display(simulation_output)"
   ]
  },
  {
   "cell_type": "markdown",
   "id": "cc7b9319-3853-4a65-8c50-2f78ea8d5abe",
   "metadata": {},
   "source": [
    "## Visualizing Results\n",
    "\n",
    "### Daily Average Load Curve - Minute Resolution\n",
    "\n",
    "The following cell is dedicated to the post-processing of the generated load profiles. It starts by importing the necessary modules and a function for formatting the profiles. Then, it reshapes the profile data into a daily format and calculates statistical values such as the average, minimum, and maximum for each day. Following these calculations, there are two functions:\n",
    "\n",
    "- *plot_cloud_plot_with_avg*: This function visualizes the range of daily profiles, displaying a cloud plot with the average daily profile highlighted.\n",
    "- *calculate_average_profile_metrics*: This function computes the average daily energy consumption and the peak power from the average profile.\n",
    "- *plot_cloud_plot_with_avg*: This function generates a plot that not only visualizes the average daily load curve but also highlights the range of variability across the simulated days, providing a comprehensive overview of the power usage patterns.\n",
    "\n",
    "Make sure the simulation and data processing from previous cells are complete before running this cell. After executing, you will see a plot displaying the cloud of daily load profiles along with the average daily load. This visualization provides insights into the variability and average consumption patterns of the simulated load demand. The plot would also be saved within Jupyter Notebooks/Results folder."
   ]
  },
  {
   "cell_type": "code",
   "execution_count": 7,
   "id": "005668b8-5110-48e9-94a3-717a3902568b",
   "metadata": {},
   "outputs": [
    {
     "name": "stdout",
     "output_type": "stream",
     "text": [
      "Select a user category to visualize:\n"
     ]
    },
    {
     "data": {
      "application/vnd.jupyter.widget-view+json": {
       "model_id": "f0587611d64047ae927589fa36e7d6b9",
       "version_major": 2,
       "version_minor": 0
      },
      "text/plain": [
       "Dropdown(description='Select User:', options=(), value=None)"
      ]
     },
     "metadata": {},
     "output_type": "display_data"
    },
    {
     "data": {
      "application/vnd.jupyter.widget-view+json": {
       "model_id": "4b6a76a19f6d4c11891dece65b929081",
       "version_major": 2,
       "version_minor": 0
      },
      "text/plain": [
       "Button(description='Visualize Profile', style=ButtonStyle())"
      ]
     },
     "metadata": {},
     "output_type": "display_data"
    },
    {
     "data": {
      "application/vnd.jupyter.widget-view+json": {
       "model_id": "d57f52dd9e1047e79eb13dc10c9b1669",
       "version_major": 2,
       "version_minor": 0
      },
      "text/plain": [
       "Output()"
      ]
     },
     "metadata": {},
     "output_type": "display_data"
    }
   ],
   "source": [
    "import matplotlib.pyplot as plt\n",
    "from ramp.post_process.post_process import Profile_formatting\n",
    "\n",
    "# Widgets for visualization\n",
    "user_dropdown = widgets.Dropdown(description='Select User:', options=[])\n",
    "visualize_button = widgets.Button(description=\"Visualize Profile\")\n",
    "viz_output = widgets.Output()\n",
    "\n",
    "def plot_cloud_plot_with_avg(profiles, profiles_daily_avg, title):\n",
    "    minutes_per_day = 1440\n",
    "    num_days = len(profiles) // minutes_per_day\n",
    "    profiles_reshaped = profiles.reshape((num_days, minutes_per_day))\n",
    "    profiles_min = profiles_reshaped.min(axis=0)\n",
    "    profiles_max = profiles_reshaped.max(axis=0)\n",
    "    \n",
    "    plt.figure(figsize=(15, 10))\n",
    "    for day in profiles_reshaped:\n",
    "        plt.plot(day / 1000, color='lightgrey', linewidth=0.5, alpha=0.3)\n",
    "    plt.fill_between(range(minutes_per_day), profiles_min / 1000, profiles_max / 1000, color='grey', alpha=0.3, label='Variability Range')\n",
    "    plt.plot(profiles_daily_avg / 1000, color='red', linewidth=2, label='Average Daily Profile')\n",
    "    plt.title(title)\n",
    "    plt.xlabel('Time of Day')\n",
    "    plt.ylabel('Power [kW]')\n",
    "    plt.xticks(np.linspace(0, minutes_per_day, 24), [f'{hour}:00' for hour in range(24)], rotation=45)\n",
    "    plt.legend()\n",
    "    plt.grid(True)\n",
    "    plt.tight_layout()\n",
    "    plt.show()\n",
    "\n",
    "def on_visualize_clicked(b):\n",
    "    with viz_output:\n",
    "        clear_output()\n",
    "        if not users:\n",
    "            print(\"No profiles have been generated yet. Please run the simulation in the previous cell.\")\n",
    "            return\n",
    "        \n",
    "        selected_name = user_dropdown.value\n",
    "        if selected_name == 'Aggregated':\n",
    "            profiles = aggregated_demand\n",
    "            title = \"Aggregated Load Profile\"\n",
    "        else:\n",
    "            selected_user = next((user for user in users if user.name == selected_name), None)\n",
    "            profiles = selected_user.demand_data.to_numpy().flatten()\n",
    "            title = f\"Load Profile for {selected_name}\"\n",
    "        \n",
    "        profiles_daily_avg = profiles.reshape(-1, 1440).mean(axis=0)\n",
    "        plot_cloud_plot_with_avg(profiles, profiles_daily_avg, title)\n",
    "\n",
    "# Update dropdown options\n",
    "def update_dropdown_options():\n",
    "    user_dropdown.options = [user.name for user in users] + ['Aggregated']\n",
    "\n",
    "# Set up event handler\n",
    "visualize_button.on_click(on_visualize_clicked)\n",
    "\n",
    "# Display widgets and output area\n",
    "print(\"Select a user category to visualize:\")\n",
    "display(user_dropdown)\n",
    "display(visualize_button)\n",
    "display(viz_output)\n",
    "\n",
    "# Update dropdown options (run this after generating profiles)\n",
    "update_dropdown_options()"
   ]
  },
  {
   "cell_type": "markdown",
   "id": "d61406ce-0892-4b34-8dff-5b6622334bf2",
   "metadata": {},
   "source": [
    "### Key Metrics\n",
    "After the load profiles have been visualized, the next step involves calculating and displaying **key energy metrics** from the average daily load profile. This includes:\n",
    "- *Daily Energy Consumption*: This metric represents the total energy used throughout an average day, calculated from the average load profile.\n",
    "- *Peak Power*: This measures the highest power usage at any point during the average day."
   ]
  },
  {
   "cell_type": "code",
   "execution_count": 8,
   "id": "29fdc488-9e18-45b9-97cf-1788189c9262",
   "metadata": {},
   "outputs": [
    {
     "name": "stdout",
     "output_type": "stream",
     "text": [
      "Daily Energy Consumption from Average Profile: 247.06 kWh\n",
      "Peak Power from Average Profile: 19.45 kW\n"
     ]
    }
   ],
   "source": [
    "# Print the key energy ratings\n",
    "daily_energy_kWh, peak_power_kW = calculate_average_profile_metrics(Profiles_daily_avg)\n",
    "print(f\"Daily Energy Consumption from Average Profile: {daily_energy_kWh:.2f} kWh\")\n",
    "print(f\"Peak Power from Average Profile: {peak_power_kW:.2f} kW\")"
   ]
  },
  {
   "cell_type": "markdown",
   "id": "33efed85-6ae4-490f-a4d0-4903d67917ff",
   "metadata": {},
   "source": [
    "### Daily Load Profiles - Minute Resolution\n",
    "This section provides an interactive tool to explore the different load profiles data visually. Here’s how you can use it:\n",
    "\n",
    "- **Step 1 - Select Days to View**: Use the slider labeled 'Days:' to choose the number of days you want to review. You can slide from 1 day up to the  maximum  number of days available in the data.\n",
    "- **Step 2 - Update Visualization**: After setting the desired number of days on the slider, click the \"Update the plot\" button to refresh the plot accordingly. This action will display the load profile for the specified duration.\n",
    "- **Step 3 -View Results**: The plot below the button will update to show the load across the selected days, illustrating variations over time."
   ]
  },
  {
   "cell_type": "code",
   "execution_count": 9,
   "id": "e2880219-7b61-42cb-a51c-2bd4b1770d68",
   "metadata": {},
   "outputs": [
    {
     "data": {
      "application/vnd.jupyter.widget-view+json": {
       "model_id": "a0de999dba834933af60b64263c47e15",
       "version_major": 2,
       "version_minor": 0
      },
      "text/plain": [
       "IntSlider(value=1, description='Days:', layout=Layout(width='800px'), max=7, min=1)"
      ]
     },
     "metadata": {},
     "output_type": "display_data"
    },
    {
     "data": {
      "application/vnd.jupyter.widget-view+json": {
       "model_id": "684bad0bb36b4b7dae331a42af425781",
       "version_major": 2,
       "version_minor": 0
      },
      "text/plain": [
       "Button(description='Update the plot', style=ButtonStyle())"
      ]
     },
     "metadata": {},
     "output_type": "display_data"
    },
    {
     "data": {
      "application/vnd.jupyter.widget-view+json": {
       "model_id": "a29f98db4fd746789c2913208526de63",
       "version_major": 2,
       "version_minor": 0
      },
      "text/plain": [
       "Output()"
      ]
     },
     "metadata": {},
     "output_type": "display_data"
    }
   ],
   "source": [
    "import matplotlib.pyplot as plt\n",
    "import ipywidgets as widgets\n",
    "from IPython.display import display\n",
    "\n",
    "# Number of days in Profiles_series\n",
    "minutes_per_day=1440\n",
    "num_days = len(Profiles_series) // minutes_per_day\n",
    "\n",
    "# Create a slider for selecting the number of days to plot\n",
    "day_slider = widgets.IntSlider(\n",
    "    value=1, \n",
    "    min=1, \n",
    "    max=num_days, \n",
    "    step=1, \n",
    "    description='Days:',\n",
    "    layout=widgets.Layout(width='800px')  # Ensuring the description is fully visible\n",
    ")\n",
    "\n",
    "# Create a button to trigger the plotting\n",
    "plot_button = widgets.Button(description=\"Update the plot\")\n",
    "\n",
    "# Output widget to display the plot\n",
    "output_plot = widgets.Output()\n",
    "\n",
    "def plot_days(b=None):\n",
    "    # Calculate how many days to plot based on the slider's value\n",
    "    days_to_plot = day_slider.value\n",
    "    indices_to_plot = days_to_plot * minutes_per_day\n",
    "\n",
    "    # Plot the selected range\n",
    "    with output_plot:\n",
    "        clear_output(wait=True)\n",
    "        plt.figure(figsize=(12, 6))\n",
    "        plt.plot(load_profile[:indices_to_plot] / 1000)\n",
    "        plt.title(f'Load Profile for the first {days_to_plot} days')\n",
    "        plt.xlabel('Time (minutes)')\n",
    "        plt.ylabel('Power [kW]')\n",
    "        plt.show()\n",
    "\n",
    "# Bind the plot button to the plotting function\n",
    "plot_button.on_click(plot_days)\n",
    "\n",
    "# Display the widgets\n",
    "display(day_slider, plot_button, output_plot)\n",
    "\n",
    "# Initialize with a default plot\n",
    "plot_days()"
   ]
  },
  {
   "cell_type": "markdown",
   "id": "e52447c0-855d-4982-a79d-09cff0293cd9",
   "metadata": {},
   "source": [
    "### Daily Average Load Curve - Minute Resolution\n",
    "This section visualizes the average hourly electricity demand across multiple days, with a focus on daily consumption patterns. The code aggregates minute-level load data into hourly averages and computes the average, maximum, and minimum loads for each hour. The resulting plot features a line graph of the average demand with a shaded area indicating the variability between the highest and lowest observed loads, providing a clear visual representation of peak and trough periods. This visualization is crucial for stakeholders in energy management and planning, as it helps identify critical times for load balancing and informs decisions on energy usage and cost-efficiency."
   ]
  },
  {
   "cell_type": "code",
   "execution_count": 10,
   "id": "2ce13aad-4b01-46fe-9d4d-06b882a44aae",
   "metadata": {},
   "outputs": [
    {
     "data": {
      "image/png": "[encoded data removed]",
      "text/plain": [
       "<Figure size 1200x600 with 1 Axes>"
      ]
     },
     "metadata": {},
     "output_type": "display_data"
    }
   ],
   "source": [
    "import matplotlib.pyplot as plt\n",
    "import numpy as np\n",
    "\n",
    "# Assuming Profiles_series is a numpy array or similar structure\n",
    "# Reshape the data for daily and hourly analysis\n",
    "daily_data = Profiles_series.reshape(num_days, minutes_per_day)\n",
    "hourly_data = daily_data.reshape(num_days, 24, 60).sum(axis=2) / 60  # Convert to average hourly load\n",
    "\n",
    "# Compute the mean and the bounds for the shaded area\n",
    "mean_hourly_profile = np.mean(hourly_data, axis=0) / 1000\n",
    "max_hourly_profile = np.max(hourly_data, axis=0) / 1000\n",
    "min_hourly_profile = np.min(hourly_data, axis=0) / 1000\n",
    "\n",
    "# Plotting the average hourly profile with a cloud of variation\n",
    "plt.figure(figsize=(12, 6))\n",
    "plt.plot(mean_hourly_profile, label='Average Hourly Load', color='red')\n",
    "plt.fill_between(range(24), min_hourly_profile, max_hourly_profile, color='grey', alpha=0.4)\n",
    "plt.title('Average Daily Hourly Load Profile with Variation')\n",
    "plt.xlabel('Hour of the Day')\n",
    "plt.ylabel('Average Power [kW]')\n",
    "plt.xticks(ticks=range(0, 24), labels=[f\"{hour}:00\" for hour in range(24)], rotation=45)\n",
    "plt.grid(True)\n",
    "plt.legend()\n",
    "plt.show()"
   ]
  },
  {
   "cell_type": "markdown",
   "id": "5ea861ec-53d8-48dc-90bd-bfa9c033acab",
   "metadata": {},
   "source": [
    "## Exporting the Results\n",
    "\n",
    "The code block below handles the export of simulation results to Excel. It formats and saves the daily and concatenated load profiles for further analysis and reporting. Execute the code snippet below to export the simulation results, including daily load profiles and average daily load, into an Excel file named 'Load demand results.xlsx', located in the 'Jupyter Notebooks/Results' folder."
   ]
  },
  {
   "cell_type": "code",
   "execution_count": 11,
   "id": "67a9ca24-1757-42ab-94a9-c307631a173e",
   "metadata": {},
   "outputs": [
    {
     "name": "stdout",
     "output_type": "stream",
     "text": [
      "Click 'Export Results' to save all profiles to an Excel file:\n"
     ]
    },
    {
     "data": {
      "application/vnd.jupyter.widget-view+json": {
       "model_id": "5e53e4936d3e42b39a7a4dd31e019388",
       "version_major": 2,
       "version_minor": 0
      },
      "text/plain": [
       "Button(description='Export Results', style=ButtonStyle())"
      ]
     },
     "metadata": {},
     "output_type": "display_data"
    },
    {
     "data": {
      "application/vnd.jupyter.widget-view+json": {
       "model_id": "b14f2bc78fb84b6c98301de8302c68b1",
       "version_major": 2,
       "version_minor": 0
      },
      "text/plain": [
       "Output()"
      ]
     },
     "metadata": {},
     "output_type": "display_data"
    }
   ],
   "source": [
    "import pandas as pd\n",
    "import numpy as np\n",
    "\n",
    "def export_profiles_to_excel(users, aggregated_demand, num_days, file_name='Results/Load demand results.xlsx'):\n",
    "    if num_days != 365:\n",
    "        print(f\"WARNING: The number of daily profiles simulated is NOT 365 but {num_days}!\")\n",
    "        print(\"The hourly output file will be created but might not be suitable for further modelling purposes.\")\n",
    "    \n",
    "    with pd.ExcelWriter(file_name, engine='openpyxl') as writer:\n",
    "        # Export aggregated demand\n",
    "        export_single_profile(aggregated_demand, 'Aggregated', num_days, writer)\n",
    "        \n",
    "        # Export individual user profiles\n",
    "        for user in users:\n",
    "            export_single_profile(user.demand_data.to_numpy().flatten(), user.name, num_days, writer)\n",
    "    \n",
    "    print(\"Data successfully exported to \" + file_name)\n",
    "\n",
    "def export_single_profile(profile_data, sheet_name, num_days, writer):\n",
    "    minutes_per_day = 1440\n",
    "    profiles_reshaped = profile_data.reshape((num_days, minutes_per_day))\n",
    "    \n",
    "    # Average Daily Profile\n",
    "    profiles_daily_avg = profiles_reshaped.mean(axis=0)\n",
    "    avg_profile_df = pd.DataFrame(profiles_daily_avg, columns=['Average Daily Load (W)'])\n",
    "    avg_profile_df.index.name = 'Minute of the Day'\n",
    "    avg_profile_df.to_excel(writer, sheet_name=f'{sheet_name} - Avg Daily')\n",
    "    \n",
    "    # Concatenated Profiles\n",
    "    concatenated_profiles_df = pd.DataFrame(profiles_reshaped.T)\n",
    "    concatenated_profiles_df.columns = [f'Profile {i+1}' for i in range(num_days)]\n",
    "    concatenated_profiles_df.index.name = 'Minute'\n",
    "    concatenated_profiles_df.to_excel(writer, sheet_name=f'{sheet_name} - Concatenated')\n",
    "    \n",
    "    # Hourly Profiles\n",
    "    hourly_data = profiles_reshaped.reshape(-1, 24, 60).sum(axis=2) / 60\n",
    "    hourly_flat = hourly_data.flatten()\n",
    "    hourly_profiles_df = pd.DataFrame({\n",
    "        'Hour Index': range(0, num_days*24),\n",
    "        'Hourly Load (Wh)': hourly_flat\n",
    "    })\n",
    "    hourly_profiles_df.to_excel(writer, sheet_name=f'{sheet_name} - Hourly', index=False)\n",
    "\n",
    "# Button to trigger export\n",
    "export_button = widgets.Button(description=\"Export Results\")\n",
    "export_output = widgets.Output()\n",
    "\n",
    "def on_export_clicked(b):\n",
    "    with export_output:\n",
    "        clear_output()\n",
    "        if not users or aggregated_demand is None:\n",
    "            print(\"No profiles have been generated yet. Please run the simulation before exporting.\")\n",
    "            return\n",
    "        \n",
    "        print(\"Exporting results data to Excel...\")\n",
    "        export_profiles_to_excel(users, aggregated_demand, num_days_input.value)\n",
    "\n",
    "# Set up event handler\n",
    "export_button.on_click(on_export_clicked)\n",
    "\n",
    "# Display export button and output\n",
    "print(\"Click 'Export Results' to save all profiles to an Excel file:\")\n",
    "display(export_button, export_output)"
   ]
  },
  {
   "cell_type": "code",
   "execution_count": null,
   "id": "1eeb5147-2192-417c-adb9-aba745ad6ff4",
   "metadata": {},
   "outputs": [],
   "source": []
  }
 ],
 "metadata": {
  "kernelspec": {
   "display_name": "Python 3 (ipykernel)",
   "language": "python",
   "name": "python3"
  },
  "language_info": {
   "codemirror_mode": {
    "name": "ipython",
    "version": 3
   },
   "file_extension": ".py",
   "mimetype": "text/x-python",
   "name": "python",
   "nbconvert_exporter": "python",
   "pygments_lexer": "ipython3",
   "version": "3.8.19"
  }
 },
 "nbformat": 4,
 "nbformat_minor": 5
}
